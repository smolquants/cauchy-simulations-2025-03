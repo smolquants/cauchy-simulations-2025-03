{
 "cells": [
  {
   "cell_type": "code",
   "execution_count": 1,
   "id": "d0dc0254-955b-4874-aa67-26c630a149bb",
   "metadata": {},
   "outputs": [],
   "source": [
    "import pandas as pd\n",
    "import numpy as np\n",
    "\n",
    "from starknet_py.net.account.account import Account\n",
    "from starknet_py.net.full_node_client import FullNodeClient\n",
    "from starknet_py.net.models.chains import StarknetChainId\n",
    "from starknet_py.net.signer.key_pair import KeyPair\n",
    "from starknet_py.net.signer.stark_curve_signer import StarkCurveSigner\n",
    "from starknet_py.contract import Contract\n",
    "\n",
    "from cauchy_simulations import CauchyLiquidityProfile, ModifiedCauchyLiquidityProfile, from_bps_tick"
   ]
  },
  {
   "cell_type": "code",
   "execution_count": 2,
   "id": "7995c718-07b8-4e2f-8b52-8884438b460e",
   "metadata": {},
   "outputs": [],
   "source": [
    "client = FullNodeClient(node_url=\"https://rpc.starknet.lava.build:443\")"
   ]
  },
  {
   "cell_type": "code",
   "execution_count": 3,
   "id": "d00567d2-d1a2-4b1f-9f9c-05fff018c6d6",
   "metadata": {},
   "outputs": [],
   "source": [
    "account = Account(\n",
    "    client=client,\n",
    "    address=\"0x4321\",\n",
    "    key_pair=KeyPair(private_key=654, public_key=321),\n",
    "    chain=StarknetChainId.MAINNET,\n",
    ")"
   ]
  },
  {
   "cell_type": "code",
   "execution_count": 4,
   "id": "383fb619-d727-40c0-881c-3f2f23743fbd",
   "metadata": {},
   "outputs": [],
   "source": [
    "LP_ADDRESS = \"0x02c092af07522b08bb5ea00c01698f2a9ca3721b01f20fbfc324afee78c2a41c\"\n",
    "CORE_ADDRESS = \"0x00000005dd3d2f4429af886cd1a3b08289dbcea99a294197e9eb43b0e0325b4b\"\n",
    "PROFILE_ADDRESS = \"0x04f927d2f37496baa8d88a3cfcb2c19d88b9067b7f66dfdda5a176e38c025210\""
   ]
  },
  {
   "cell_type": "code",
   "execution_count": 5,
   "id": "73d8b27c-6577-439e-8cc7-3505540b488c",
   "metadata": {},
   "outputs": [],
   "source": [
    "lp_contract = await Contract.from_address(address=LP_ADDRESS, provider=account)"
   ]
  },
  {
   "cell_type": "code",
   "execution_count": 6,
   "id": "b7116de1-f573-41f8-9bbb-a41b4c3d3b5e",
   "metadata": {},
   "outputs": [
    {
     "data": {
      "text/plain": [
       "dict_keys(['get_primary_interface_id', 'create_and_initialize_pool', 'compound_fees', 'add_liquidity', 'remove_liquidity', 'sweep', 'core', 'profile', 'pool_token', 'pool_liquidity_factor', 'pool_reserves', 'pool_minimum_liquidity_factor', 'locked', 'before_initialize_pool', 'after_initialize_pool', 'before_swap', 'after_swap', 'before_update_position', 'after_update_position', 'before_collect_fees', 'after_collect_fees', 'get_owner', 'transfer_ownership', 'replace_class_hash'])"
      ]
     },
     "execution_count": 6,
     "metadata": {},
     "output_type": "execute_result"
    }
   ],
   "source": [
    "lp_contract.functions.keys()"
   ]
  },
  {
   "cell_type": "code",
   "execution_count": 7,
   "id": "dfe39a35-aa09-4e6f-8938-6d39827384a3",
   "metadata": {},
   "outputs": [
    {
     "data": {
      "text/plain": [
       "(OrderedDict([('contract_address',\n",
       "               158098919692956613592021320609952044916245725306097615271255138786123)]),)"
      ]
     },
     "execution_count": 7,
     "metadata": {},
     "output_type": "execute_result"
    }
   ],
   "source": [
    "await lp_contract.functions['core'].call()"
   ]
  },
  {
   "cell_type": "code",
   "execution_count": 8,
   "id": "4fa718eb-acce-4d3d-8e02-ce590b82e1a5",
   "metadata": {},
   "outputs": [
    {
     "data": {
      "text/plain": [
       "(OrderedDict([('contract_address',\n",
       "               2249471168798056905190965951989853239977978213936081237646262745692077445648)]),)"
      ]
     },
     "execution_count": 8,
     "metadata": {},
     "output_type": "execute_result"
    }
   ],
   "source": [
    "await lp_contract.functions['profile'].call()"
   ]
  },
  {
   "cell_type": "code",
   "execution_count": 9,
   "id": "3d863b03-097d-40b9-8ce2-3659b1b45ca5",
   "metadata": {},
   "outputs": [],
   "source": [
    "# WBTC/tBTC 1 bps fee, 0.01 bps spacing pool\n",
    "pool_key = {\n",
    "    \"token0\": 0x03fe2b97c1fd336e750087d68b9b867997fd64a2661ff3ca5a7c771641e8e7ac, # token0: WBTC\n",
    "    \"token1\": 0x04daa17763b286d1e59b97c283C0b8C949994C361e426A28F743c67bDfE9a32f, # token1: tBTC\n",
    "    \"fee\": 34028236692093846346337460743176821, # fee: 1 bps\n",
    "    \"tick_spacing\": 1, # tick spacing: 0.01 bps\n",
    "    \"extension\": 0x02c092af07522b08bb5ea00c01698f2a9ca3721b01f20fbfc324afee78c2a41c, # extension\n",
    "}"
   ]
  },
  {
   "cell_type": "code",
   "execution_count": 10,
   "id": "4055491a-e945-4692-ad76-73793324068f",
   "metadata": {},
   "outputs": [
    {
     "data": {
      "text/plain": [
       "((349369, 4667967017655949),)"
      ]
     },
     "execution_count": 10,
     "metadata": {},
     "output_type": "execute_result"
    }
   ],
   "source": [
    "await lp_contract.functions['pool_reserves'].call(pool_key)"
   ]
  },
  {
   "cell_type": "code",
   "execution_count": 11,
   "id": "3e9967b1-a968-4245-ac2d-2476436cd25e",
   "metadata": {},
   "outputs": [],
   "source": [
    "core_contract = await Contract.from_address(address=CORE_ADDRESS, provider=account)"
   ]
  },
  {
   "cell_type": "code",
   "execution_count": 12,
   "id": "44e2455c-c610-4034-abd3-534cc7bdb54c",
   "metadata": {},
   "outputs": [
    {
     "data": {
      "text/plain": [
       "dict_keys(['get_primary_interface_id', 'get_protocol_fees_collected', 'get_locker_state', 'get_locker_delta', 'get_pool_price', 'get_pool_liquidity', 'get_pool_fees_per_liquidity', 'get_pool_fees_per_liquidity_inside', 'get_pool_tick_liquidity_delta', 'get_pool_tick_liquidity_net', 'get_pool_tick_fees_outside', 'get_position', 'get_position_with_fees', 'get_saved_balance', 'next_initialized_tick', 'prev_initialized_tick', 'withdraw_all_protocol_fees', 'withdraw_protocol_fees', 'lock', 'forward', 'withdraw', 'save', 'pay', 'load', 'initialize_pool', 'maybe_initialize_pool', 'update_position', 'collect_fees', 'swap', 'accumulate_as_fees', 'set_call_points', 'get_call_points', 'get_owner', 'transfer_ownership', 'replace_class_hash'])"
      ]
     },
     "execution_count": 12,
     "metadata": {},
     "output_type": "execute_result"
    }
   ],
   "source": [
    "core_contract.functions.keys()"
   ]
  },
  {
   "cell_type": "code",
   "execution_count": 13,
   "id": "0bc76bc0-1e24-473c-9ffa-e336a53b4526",
   "metadata": {},
   "outputs": [],
   "source": [
    "profile_contract = await Contract.from_address(address=PROFILE_ADDRESS, provider=account)"
   ]
  },
  {
   "cell_type": "code",
   "execution_count": 14,
   "id": "0fe352f0-1c30-48b3-99b2-acf423c8fc79",
   "metadata": {},
   "outputs": [
    {
     "data": {
      "text/plain": [
       "dict_keys(['initial_liquidity_factor', 'description', 'set_liquidity_profile', 'get_liquidity_profile', 'get_liquidity_updates', 'get_bounds_for_liquidity_updates'])"
      ]
     },
     "execution_count": 14,
     "metadata": {},
     "output_type": "execute_result"
    }
   ],
   "source": [
    "profile_contract.functions.keys()"
   ]
  },
  {
   "cell_type": "code",
   "execution_count": 15,
   "id": "61ec1b8e-ea80-48a9-8104-acb3ce165373",
   "metadata": {},
   "outputs": [],
   "source": [
    "ZERO_I129 = {\n",
    "    \"mag\": 0,\n",
    "    \"sign\": False,\n",
    "}"
   ]
  },
  {
   "cell_type": "code",
   "execution_count": 16,
   "id": "1b4f3e6c-8516-47c9-bfd1-2f7ed70e52f9",
   "metadata": {},
   "outputs": [],
   "source": [
    "(liquidity_update_params,) = await profile_contract.functions['get_liquidity_updates'].call(pool_key, ZERO_I129)"
   ]
  },
  {
   "cell_type": "code",
   "execution_count": 17,
   "id": "b9ddb702-ad4d-4dc1-9ec0-cbc450ac3dda",
   "metadata": {},
   "outputs": [],
   "source": [
    "data = {'tick': [], 'liquidity_delta': []}"
   ]
  },
  {
   "cell_type": "code",
   "execution_count": 18,
   "id": "e6d8bfbb-45b3-4ed0-ba22-79a6f8cefd58",
   "metadata": {},
   "outputs": [],
   "source": [
    "def i129_to_int(i: dict) -> int:\n",
    "    return -i['mag'] if i['sign'] else i['mag']"
   ]
  },
  {
   "cell_type": "code",
   "execution_count": 19,
   "id": "31a6a85d-c604-4afe-a40d-8b481acb9dc9",
   "metadata": {},
   "outputs": [
    {
     "name": "stdout",
     "output_type": "stream",
     "text": [
      "tick range: (-88722883, 88722883)\n",
      "liq delta lower: 10563810274\n",
      "liq delta upper: -10563810274\n",
      "tick range: (22929860, 23121861)\n",
      "liq delta lower: 18765867473\n",
      "liq delta upper: -18765867473\n",
      "tick range: (22945860, 23105861)\n",
      "liq delta lower: 8236390710\n",
      "liq delta upper: -8236390710\n",
      "tick range: (22961860, 23089861)\n",
      "liq delta lower: 15129669959\n",
      "liq delta upper: -15129669959\n",
      "tick range: (22969860, 23081861)\n",
      "liq delta lower: 12832059334\n",
      "liq delta upper: -12832059334\n",
      "tick range: (22977860, 23073861)\n",
      "liq delta lower: 19711223094\n",
      "liq delta upper: -19711223094\n",
      "tick range: (22985860, 23065861)\n",
      "liq delta lower: 32531774901\n",
      "liq delta upper: -32531774901\n",
      "tick range: (22993860, 23057861)\n",
      "liq delta lower: 59376176569\n",
      "liq delta upper: -59376176569\n",
      "tick range: (22997860, 23053861)\n",
      "liq delta lower: 49974948613\n",
      "liq delta upper: -49974948613\n",
      "tick range: (23001860, 23049861)\n",
      "liq delta lower: 76087984826\n",
      "liq delta upper: -76087984826\n",
      "tick range: (23005860, 23045861)\n",
      "liq delta lower: 123811809626\n",
      "liq delta upper: -123811809626\n",
      "tick range: (23009860, 23041861)\n",
      "liq delta lower: 220477714468\n",
      "liq delta upper: -220477714468\n",
      "tick range: (23011860, 23039861)\n",
      "liq delta lower: 180264797992\n",
      "liq delta upper: -180264797992\n",
      "tick range: (23013860, 23037861)\n",
      "liq delta lower: 265590135710\n",
      "liq delta upper: -265590135710\n",
      "tick range: (23015860, 23035861)\n",
      "liq delta lower: 410713658139\n",
      "liq delta upper: -410713658139\n",
      "tick range: (23017860, 23033861)\n",
      "liq delta lower: 672076895137\n",
      "liq delta upper: -672076895137\n",
      "tick range: (23018860, 23032861)\n",
      "liq delta lower: 499749486129\n",
      "liq delta upper: -499749486129\n",
      "tick range: (23019860, 23031861)\n",
      "liq delta lower: 666332648168\n",
      "liq delta upper: -666332648168\n",
      "tick range: (23020860, 23030861)\n",
      "liq delta lower: 893860869499\n",
      "liq delta upper: -893860869499\n",
      "tick range: (23021860, 23029861)\n",
      "liq delta lower: 1188428656033\n",
      "liq delta upper: -1188428656033\n",
      "tick range: (23022360, 23029361)\n",
      "liq delta lower: 718666296422\n",
      "liq delta upper: -718666296422\n",
      "tick range: (23022860, 23028861)\n",
      "liq delta lower: 797240478165\n",
      "liq delta upper: -797240478165\n",
      "tick range: (23023360, 23028361)\n",
      "liq delta lower: 856499493829\n",
      "liq delta upper: -856499493829\n",
      "tick range: (23023860, 23027861)\n",
      "liq delta lower: 875965391413\n",
      "liq delta upper: -875965391413\n",
      "tick range: (23024110, 23027611)\n",
      "liq delta lower: 426015955388\n",
      "liq delta upper: -426015955388\n",
      "tick range: (23024360, 23027361)\n",
      "liq delta lower: 404617893702\n",
      "liq delta upper: -404617893702\n",
      "tick range: (23024610, 23027111)\n",
      "liq delta lower: 371610466293\n",
      "liq delta upper: -371610466293\n",
      "tick range: (23024860, 23026861)\n",
      "liq delta lower: 326401171595\n",
      "liq delta upper: -326401171595\n",
      "tick range: (23025110, 23026611)\n",
      "liq delta lower: 269195431670\n",
      "liq delta upper: -269195431670\n",
      "tick range: (23025360, 23026361)\n",
      "liq delta lower: 201157025862\n",
      "liq delta upper: -201157025862\n",
      "tick range: (23025610, 23026111)\n",
      "liq delta lower: 124451233900\n",
      "liq delta upper: -124451233900\n"
     ]
    }
   ],
   "source": [
    "for params in liquidity_update_params:\n",
    "    tick_lower = i129_to_int(params['bounds']['lower'])\n",
    "    tick_upper = i129_to_int(params['bounds']['upper'])\n",
    "    data['tick'].extend([tick_lower, tick_upper])\n",
    "    print(f\"tick range: {(tick_lower, tick_upper)}\")\n",
    "\n",
    "    (result_liquidity_delta_lower, ) = await core_contract.functions[\"get_pool_tick_liquidity_delta\"].call(pool_key, params['bounds']['lower'])\n",
    "    (result_liquidity_delta_upper, ) = await core_contract.functions[\"get_pool_tick_liquidity_delta\"].call(pool_key, params['bounds']['upper'])\n",
    "    liquidity_delta_lower = i129_to_int(result_liquidity_delta_lower)\n",
    "    liquidity_delta_upper = i129_to_int(result_liquidity_delta_upper)\n",
    "    data['liquidity_delta'].extend([liquidity_delta_lower, liquidity_delta_upper])\n",
    "    print(f\"liq delta lower: {liquidity_delta_lower}\")\n",
    "    print(f\"liq delta upper: {liquidity_delta_upper}\")"
   ]
  },
  {
   "cell_type": "code",
   "execution_count": 20,
   "id": "3ecb5fa5-2c13-454f-b14d-6ca44463b23a",
   "metadata": {},
   "outputs": [],
   "source": [
    "df = pd.DataFrame(data=data)\n",
    "df = df.sort_values(by='tick')"
   ]
  },
  {
   "cell_type": "code",
   "execution_count": 21,
   "id": "660760d6-9f5b-4626-986d-a1bece3ec2c7",
   "metadata": {},
   "outputs": [],
   "source": [
    "df['liquidity'] = df['liquidity_delta'].cumsum()"
   ]
  },
  {
   "cell_type": "code",
   "execution_count": 22,
   "id": "2d478003-8d86-484a-9860-f179980c5441",
   "metadata": {},
   "outputs": [
    {
     "data": {
      "text/html": [
       "<div>\n",
       "<style scoped>\n",
       "    .dataframe tbody tr th:only-of-type {\n",
       "        vertical-align: middle;\n",
       "    }\n",
       "\n",
       "    .dataframe tbody tr th {\n",
       "        vertical-align: top;\n",
       "    }\n",
       "\n",
       "    .dataframe thead th {\n",
       "        text-align: right;\n",
       "    }\n",
       "</style>\n",
       "<table border=\"1\" class=\"dataframe\">\n",
       "  <thead>\n",
       "    <tr style=\"text-align: right;\">\n",
       "      <th></th>\n",
       "      <th>tick</th>\n",
       "      <th>liquidity_delta</th>\n",
       "      <th>liquidity</th>\n",
       "    </tr>\n",
       "  </thead>\n",
       "  <tbody>\n",
       "    <tr>\n",
       "      <th>0</th>\n",
       "      <td>-88722883</td>\n",
       "      <td>10563810274</td>\n",
       "      <td>10563810274</td>\n",
       "    </tr>\n",
       "    <tr>\n",
       "      <th>2</th>\n",
       "      <td>22929860</td>\n",
       "      <td>18765867473</td>\n",
       "      <td>29329677747</td>\n",
       "    </tr>\n",
       "    <tr>\n",
       "      <th>4</th>\n",
       "      <td>22945860</td>\n",
       "      <td>8236390710</td>\n",
       "      <td>37566068457</td>\n",
       "    </tr>\n",
       "    <tr>\n",
       "      <th>6</th>\n",
       "      <td>22961860</td>\n",
       "      <td>15129669959</td>\n",
       "      <td>52695738416</td>\n",
       "    </tr>\n",
       "    <tr>\n",
       "      <th>8</th>\n",
       "      <td>22969860</td>\n",
       "      <td>12832059334</td>\n",
       "      <td>65527797750</td>\n",
       "    </tr>\n",
       "    <tr>\n",
       "      <th>...</th>\n",
       "      <td>...</td>\n",
       "      <td>...</td>\n",
       "      <td>...</td>\n",
       "    </tr>\n",
       "    <tr>\n",
       "      <th>9</th>\n",
       "      <td>23081861</td>\n",
       "      <td>-12832059334</td>\n",
       "      <td>52695738416</td>\n",
       "    </tr>\n",
       "    <tr>\n",
       "      <th>7</th>\n",
       "      <td>23089861</td>\n",
       "      <td>-15129669959</td>\n",
       "      <td>37566068457</td>\n",
       "    </tr>\n",
       "    <tr>\n",
       "      <th>5</th>\n",
       "      <td>23105861</td>\n",
       "      <td>-8236390710</td>\n",
       "      <td>29329677747</td>\n",
       "    </tr>\n",
       "    <tr>\n",
       "      <th>3</th>\n",
       "      <td>23121861</td>\n",
       "      <td>-18765867473</td>\n",
       "      <td>10563810274</td>\n",
       "    </tr>\n",
       "    <tr>\n",
       "      <th>1</th>\n",
       "      <td>88722883</td>\n",
       "      <td>-10563810274</td>\n",
       "      <td>0</td>\n",
       "    </tr>\n",
       "  </tbody>\n",
       "</table>\n",
       "<p>62 rows × 3 columns</p>\n",
       "</div>"
      ],
      "text/plain": [
       "        tick  liquidity_delta    liquidity\n",
       "0  -88722883      10563810274  10563810274\n",
       "2   22929860      18765867473  29329677747\n",
       "4   22945860       8236390710  37566068457\n",
       "6   22961860      15129669959  52695738416\n",
       "8   22969860      12832059334  65527797750\n",
       "..       ...              ...          ...\n",
       "9   23081861     -12832059334  52695738416\n",
       "7   23089861     -15129669959  37566068457\n",
       "5   23105861      -8236390710  29329677747\n",
       "3   23121861     -18765867473  10563810274\n",
       "1   88722883     -10563810274            0\n",
       "\n",
       "[62 rows x 3 columns]"
      ]
     },
     "execution_count": 22,
     "metadata": {},
     "output_type": "execute_result"
    }
   ],
   "source": [
    "df"
   ]
  },
  {
   "cell_type": "code",
   "execution_count": 23,
   "id": "4954db4f-afc5-4499-8fa6-360c0aa7eb5e",
   "metadata": {},
   "outputs": [],
   "source": [
    "TICK_MIN_LIMIT = 22641860  # center of profile - 4 * tick max profile half width\n",
    "TICK_MAX_LIMIT = 23409860  # center of profile + 4 * tick max profile half width\n",
    "TICK_STEP = 10"
   ]
  },
  {
   "cell_type": "code",
   "execution_count": 24,
   "id": "172690a5-6aa7-4228-ae6d-cb5c67b02d26",
   "metadata": {},
   "outputs": [],
   "source": [
    "ticks = np.arange(TICK_MIN_LIMIT, TICK_MAX_LIMIT + 1, TICK_STEP)\n",
    "data_cleaned = {'tick': list(ticks), 'liquidity': []}"
   ]
  },
  {
   "cell_type": "code",
   "execution_count": 25,
   "id": "393e5e12-c563-4f4d-9565-a707d004f9fd",
   "metadata": {},
   "outputs": [],
   "source": [
    "for tick in ticks:\n",
    "    liquidity = df[df['tick'] <= tick]['liquidity_delta'].sum()\n",
    "    data_cleaned['liquidity'].extend([liquidity])"
   ]
  },
  {
   "cell_type": "code",
   "execution_count": 26,
   "id": "ad99f311-2733-4b59-994e-c3e417dc38bc",
   "metadata": {},
   "outputs": [],
   "source": [
    "df_cleaned = pd.DataFrame(data=data_cleaned)"
   ]
  },
  {
   "cell_type": "code",
   "execution_count": 27,
   "id": "e6ff200e-d90c-4fc7-a8d0-995bb36c0f60",
   "metadata": {},
   "outputs": [
    {
     "data": {
      "text/html": [
       "<div>\n",
       "<style scoped>\n",
       "    .dataframe tbody tr th:only-of-type {\n",
       "        vertical-align: middle;\n",
       "    }\n",
       "\n",
       "    .dataframe tbody tr th {\n",
       "        vertical-align: top;\n",
       "    }\n",
       "\n",
       "    .dataframe thead th {\n",
       "        text-align: right;\n",
       "    }\n",
       "</style>\n",
       "<table border=\"1\" class=\"dataframe\">\n",
       "  <thead>\n",
       "    <tr style=\"text-align: right;\">\n",
       "      <th></th>\n",
       "      <th>tick</th>\n",
       "      <th>liquidity</th>\n",
       "    </tr>\n",
       "  </thead>\n",
       "  <tbody>\n",
       "    <tr>\n",
       "      <th>0</th>\n",
       "      <td>22641860</td>\n",
       "      <td>10563810274</td>\n",
       "    </tr>\n",
       "    <tr>\n",
       "      <th>1</th>\n",
       "      <td>22641870</td>\n",
       "      <td>10563810274</td>\n",
       "    </tr>\n",
       "    <tr>\n",
       "      <th>2</th>\n",
       "      <td>22641880</td>\n",
       "      <td>10563810274</td>\n",
       "    </tr>\n",
       "    <tr>\n",
       "      <th>3</th>\n",
       "      <td>22641890</td>\n",
       "      <td>10563810274</td>\n",
       "    </tr>\n",
       "    <tr>\n",
       "      <th>4</th>\n",
       "      <td>22641900</td>\n",
       "      <td>10563810274</td>\n",
       "    </tr>\n",
       "    <tr>\n",
       "      <th>...</th>\n",
       "      <td>...</td>\n",
       "      <td>...</td>\n",
       "    </tr>\n",
       "    <tr>\n",
       "      <th>76796</th>\n",
       "      <td>23409820</td>\n",
       "      <td>10563810274</td>\n",
       "    </tr>\n",
       "    <tr>\n",
       "      <th>76797</th>\n",
       "      <td>23409830</td>\n",
       "      <td>10563810274</td>\n",
       "    </tr>\n",
       "    <tr>\n",
       "      <th>76798</th>\n",
       "      <td>23409840</td>\n",
       "      <td>10563810274</td>\n",
       "    </tr>\n",
       "    <tr>\n",
       "      <th>76799</th>\n",
       "      <td>23409850</td>\n",
       "      <td>10563810274</td>\n",
       "    </tr>\n",
       "    <tr>\n",
       "      <th>76800</th>\n",
       "      <td>23409860</td>\n",
       "      <td>10563810274</td>\n",
       "    </tr>\n",
       "  </tbody>\n",
       "</table>\n",
       "<p>76801 rows × 2 columns</p>\n",
       "</div>"
      ],
      "text/plain": [
       "           tick    liquidity\n",
       "0      22641860  10563810274\n",
       "1      22641870  10563810274\n",
       "2      22641880  10563810274\n",
       "3      22641890  10563810274\n",
       "4      22641900  10563810274\n",
       "...         ...          ...\n",
       "76796  23409820  10563810274\n",
       "76797  23409830  10563810274\n",
       "76798  23409840  10563810274\n",
       "76799  23409850  10563810274\n",
       "76800  23409860  10563810274\n",
       "\n",
       "[76801 rows x 2 columns]"
      ]
     },
     "execution_count": 27,
     "metadata": {},
     "output_type": "execute_result"
    }
   ],
   "source": [
    "df_cleaned"
   ]
  },
  {
   "cell_type": "code",
   "execution_count": null,
   "id": "874f93a1-216d-47bf-acc6-3e0947e730ff",
   "metadata": {},
   "outputs": [],
   "source": []
  },
  {
   "cell_type": "code",
   "execution_count": 28,
   "id": "00dbac5d-de30-41d8-aa1e-cabdd6836754",
   "metadata": {},
   "outputs": [],
   "source": [
    "TICK_CENTER = (TICK_MIN_LIMIT + TICK_MAX_LIMIT) // 2\n",
    "TICK_HALF_WIDTH_LIMIT = TICK_MAX_LIMIT - TICK_CENTER"
   ]
  },
  {
   "cell_type": "code",
   "execution_count": 29,
   "id": "4dde6f0f-8418-4f24-b027-39d0003d7b14",
   "metadata": {},
   "outputs": [
    {
     "data": {
      "text/plain": [
       "<Axes: xlabel='tick'>"
      ]
     },
     "execution_count": 29,
     "metadata": {},
     "output_type": "execute_result"
    },
    {
     "data": {
      "image/png": "[encoded data removed]",
      "text/plain": [
       "<Figure size 640x480 with 1 Axes>"
      ]
     },
     "metadata": {},
     "output_type": "display_data"
    }
   ],
   "source": [
    "# max half width\n",
    "df_cleaned.plot(x='tick', y='liquidity', xlim=(TICK_MIN_LIMIT, TICK_MAX_LIMIT))"
   ]
  },
  {
   "cell_type": "code",
   "execution_count": 30,
   "id": "d72fb10b-8845-4864-a919-df29358bfa9b",
   "metadata": {},
   "outputs": [
    {
     "data": {
      "text/plain": [
       "<Axes: xlabel='tick'>"
      ]
     },
     "execution_count": 30,
     "metadata": {},
     "output_type": "execute_result"
    },
    {
     "data": {
      "image/png": "[encoded data removed]",
      "text/plain": [
       "<Figure size 640x480 with 1 Axes>"
      ]
     },
     "metadata": {},
     "output_type": "display_data"
    }
   ],
   "source": [
    "# max half width // 2\n",
    "df_cleaned.plot(x='tick', y='liquidity', xlim=(TICK_CENTER - TICK_HALF_WIDTH_LIMIT // 2, TICK_CENTER + TICK_HALF_WIDTH_LIMIT // 2))"
   ]
  },
  {
   "cell_type": "code",
   "execution_count": 31,
   "id": "44092c1d-9ceb-44ec-a440-ec456ad02348",
   "metadata": {},
   "outputs": [
    {
     "data": {
      "text/plain": [
       "<Axes: xlabel='tick'>"
      ]
     },
     "execution_count": 31,
     "metadata": {},
     "output_type": "execute_result"
    },
    {
     "data": {
      "image/png": "[encoded data removed]",
      "text/plain": [
       "<Figure size 640x480 with 1 Axes>"
      ]
     },
     "metadata": {},
     "output_type": "display_data"
    }
   ],
   "source": [
    "# max half width // 4\n",
    "df_cleaned.plot(x='tick', y='liquidity', xlim=(TICK_CENTER - TICK_HALF_WIDTH_LIMIT // 4, TICK_CENTER + TICK_HALF_WIDTH_LIMIT // 4))"
   ]
  },
  {
   "cell_type": "code",
   "execution_count": 32,
   "id": "014fb9c0-9b35-41e7-8d97-6202508a4106",
   "metadata": {},
   "outputs": [
    {
     "data": {
      "text/plain": [
       "<Axes: xlabel='tick'>"
      ]
     },
     "execution_count": 32,
     "metadata": {},
     "output_type": "execute_result"
    },
    {
     "data": {
      "image/png": "[encoded data removed]",
      "text/plain": [
       "<Figure size 640x480 with 1 Axes>"
      ]
     },
     "metadata": {},
     "output_type": "display_data"
    }
   ],
   "source": [
    "# max half width // 8\n",
    "df_cleaned.plot(x='tick', y='liquidity', xlim=(TICK_CENTER - TICK_HALF_WIDTH_LIMIT // 8, TICK_CENTER + TICK_HALF_WIDTH_LIMIT // 8))"
   ]
  },
  {
   "cell_type": "code",
   "execution_count": 33,
   "id": "1a63cafb-ccce-4946-8b13-85777ea70b9a",
   "metadata": {},
   "outputs": [
    {
     "data": {
      "text/plain": [
       "<Axes: xlabel='tick'>"
      ]
     },
     "execution_count": 33,
     "metadata": {},
     "output_type": "execute_result"
    },
    {
     "data": {
      "image/png": "[encoded data removed]",
      "text/plain": [
       "<Figure size 640x480 with 1 Axes>"
      ]
     },
     "metadata": {},
     "output_type": "display_data"
    }
   ],
   "source": [
    "# max half width // 16\n",
    "df_cleaned.plot(x='tick', y='liquidity', xlim=(TICK_CENTER - TICK_HALF_WIDTH_LIMIT // 16, TICK_CENTER + TICK_HALF_WIDTH_LIMIT // 16))"
   ]
  },
  {
   "cell_type": "code",
   "execution_count": 34,
   "id": "fec93dfd-d3fb-4526-b4ea-204ac855bb46",
   "metadata": {},
   "outputs": [
    {
     "data": {
      "text/plain": [
       "<Axes: xlabel='tick'>"
      ]
     },
     "execution_count": 34,
     "metadata": {},
     "output_type": "execute_result"
    },
    {
     "data": {
      "image/png": "[encoded data removed]",
      "text/plain": [
       "<Figure size 640x480 with 1 Axes>"
      ]
     },
     "metadata": {},
     "output_type": "display_data"
    }
   ],
   "source": [
    "# max half width // 32\n",
    "df_cleaned.plot(x='tick', y='liquidity', xlim=(TICK_CENTER - TICK_HALF_WIDTH_LIMIT // 32, TICK_CENTER + TICK_HALF_WIDTH_LIMIT // 32))"
   ]
  },
  {
   "cell_type": "code",
   "execution_count": 35,
   "id": "54a86cab-c3c1-4b61-ac53-a15accad06d1",
   "metadata": {},
   "outputs": [
    {
     "data": {
      "text/plain": [
       "136067485455972075"
      ]
     },
     "execution_count": 35,
     "metadata": {},
     "output_type": "execute_result"
    }
   ],
   "source": [
    "# normalize by pool liquidity factor\n",
    "(lf, ) = await lp_contract.functions['pool_liquidity_factor'].call(pool_key)\n",
    "lf"
   ]
  },
  {
   "cell_type": "code",
   "execution_count": 36,
   "id": "d5ad4c3f-aff8-4743-a30d-dafed65b1f53",
   "metadata": {},
   "outputs": [],
   "source": [
    "GAMMA = 4000\n",
    "PEG = 128000\n",
    "mclp = ModifiedCauchyLiquidityProfile(c=lf, gamma=GAMMA, peg=PEG)"
   ]
  },
  {
   "cell_type": "code",
   "execution_count": 37,
   "id": "e5834891-f5af-4157-9f04-714bb8ae1048",
   "metadata": {},
   "outputs": [],
   "source": [
    "df_cleaned['model'] = mclp.at(df_cleaned['tick'] - TICK_CENTER)"
   ]
  },
  {
   "cell_type": "code",
   "execution_count": 38,
   "id": "ab9dcf76-c711-44ec-8b0d-41d42eb91b4e",
   "metadata": {},
   "outputs": [
    {
     "data": {
      "text/html": [
       "<div>\n",
       "<style scoped>\n",
       "    .dataframe tbody tr th:only-of-type {\n",
       "        vertical-align: middle;\n",
       "    }\n",
       "\n",
       "    .dataframe tbody tr th {\n",
       "        vertical-align: top;\n",
       "    }\n",
       "\n",
       "    .dataframe thead th {\n",
       "        text-align: right;\n",
       "    }\n",
       "</style>\n",
       "<table border=\"1\" class=\"dataframe\">\n",
       "  <thead>\n",
       "    <tr style=\"text-align: right;\">\n",
       "      <th></th>\n",
       "      <th>tick</th>\n",
       "      <th>liquidity</th>\n",
       "      <th>model</th>\n",
       "    </tr>\n",
       "  </thead>\n",
       "  <tbody>\n",
       "    <tr>\n",
       "      <th>0</th>\n",
       "      <td>22641860</td>\n",
       "      <td>10563810274</td>\n",
       "      <td>1.173859e+10</td>\n",
       "    </tr>\n",
       "    <tr>\n",
       "      <th>1</th>\n",
       "      <td>22641870</td>\n",
       "      <td>10563810274</td>\n",
       "      <td>1.173865e+10</td>\n",
       "    </tr>\n",
       "    <tr>\n",
       "      <th>2</th>\n",
       "      <td>22641880</td>\n",
       "      <td>10563810274</td>\n",
       "      <td>1.173871e+10</td>\n",
       "    </tr>\n",
       "    <tr>\n",
       "      <th>3</th>\n",
       "      <td>22641890</td>\n",
       "      <td>10563810274</td>\n",
       "      <td>1.173877e+10</td>\n",
       "    </tr>\n",
       "    <tr>\n",
       "      <th>4</th>\n",
       "      <td>22641900</td>\n",
       "      <td>10563810274</td>\n",
       "      <td>1.173883e+10</td>\n",
       "    </tr>\n",
       "    <tr>\n",
       "      <th>...</th>\n",
       "      <td>...</td>\n",
       "      <td>...</td>\n",
       "      <td>...</td>\n",
       "    </tr>\n",
       "    <tr>\n",
       "      <th>76796</th>\n",
       "      <td>23409820</td>\n",
       "      <td>10563810274</td>\n",
       "      <td>1.173883e+10</td>\n",
       "    </tr>\n",
       "    <tr>\n",
       "      <th>76797</th>\n",
       "      <td>23409830</td>\n",
       "      <td>10563810274</td>\n",
       "      <td>1.173877e+10</td>\n",
       "    </tr>\n",
       "    <tr>\n",
       "      <th>76798</th>\n",
       "      <td>23409840</td>\n",
       "      <td>10563810274</td>\n",
       "      <td>1.173871e+10</td>\n",
       "    </tr>\n",
       "    <tr>\n",
       "      <th>76799</th>\n",
       "      <td>23409850</td>\n",
       "      <td>10563810274</td>\n",
       "      <td>1.173865e+10</td>\n",
       "    </tr>\n",
       "    <tr>\n",
       "      <th>76800</th>\n",
       "      <td>23409860</td>\n",
       "      <td>10563810274</td>\n",
       "      <td>1.173859e+10</td>\n",
       "    </tr>\n",
       "  </tbody>\n",
       "</table>\n",
       "<p>76801 rows × 3 columns</p>\n",
       "</div>"
      ],
      "text/plain": [
       "           tick    liquidity         model\n",
       "0      22641860  10563810274  1.173859e+10\n",
       "1      22641870  10563810274  1.173865e+10\n",
       "2      22641880  10563810274  1.173871e+10\n",
       "3      22641890  10563810274  1.173877e+10\n",
       "4      22641900  10563810274  1.173883e+10\n",
       "...         ...          ...           ...\n",
       "76796  23409820  10563810274  1.173883e+10\n",
       "76797  23409830  10563810274  1.173877e+10\n",
       "76798  23409840  10563810274  1.173871e+10\n",
       "76799  23409850  10563810274  1.173865e+10\n",
       "76800  23409860  10563810274  1.173859e+10\n",
       "\n",
       "[76801 rows x 3 columns]"
      ]
     },
     "execution_count": 38,
     "metadata": {},
     "output_type": "execute_result"
    }
   ],
   "source": [
    "# ya so wanna change profile to be bounds of (-x, x + tick_spacing) for each x adding liq to\n",
    "# given poolState.liquidity is sum of liquidity delta from\n",
    "# t >= min_tick to t <= poolState.tick (inclusive of liq delta value on positive side)\n",
    "# which is tilting are current setup slightly\n",
    "# with new bounds negative liquidity delta less on positive side bound wont get added in until\n",
    "# after next tick spacing \n",
    "df_cleaned"
   ]
  },
  {
   "cell_type": "code",
   "execution_count": 39,
   "id": "b7aa52c4-f78f-4342-90da-e993ff261c5e",
   "metadata": {},
   "outputs": [
    {
     "data": {
      "text/plain": [
       "<Axes: xlabel='tick'>"
      ]
     },
     "execution_count": 39,
     "metadata": {},
     "output_type": "execute_result"
    },
    {
     "data": {
      "image/png": "[encoded data removed]",
      "text/plain": [
       "<Figure size 640x480 with 1 Axes>"
      ]
     },
     "metadata": {},
     "output_type": "display_data"
    }
   ],
   "source": [
    "df_cleaned.plot(x='tick', y=['liquidity', 'model'], xlim=(TICK_CENTER - TICK_HALF_WIDTH_LIMIT // 8, TICK_CENTER + TICK_HALF_WIDTH_LIMIT // 8), style=['-', '--'])"
   ]
  },
  {
   "cell_type": "code",
   "execution_count": 40,
   "id": "ec548509-e5db-4792-a3e7-ec72165dda0b",
   "metadata": {},
   "outputs": [
    {
     "data": {
      "text/plain": [
       "<Axes: xlabel='tick'>"
      ]
     },
     "execution_count": 40,
     "metadata": {},
     "output_type": "execute_result"
    },
    {
     "data": {
      "image/png": "[encoded data removed]",
      "text/plain": [
       "<Figure size 640x480 with 1 Axes>"
      ]
     },
     "metadata": {},
     "output_type": "display_data"
    }
   ],
   "source": [
    "df_cleaned.plot(x='tick', y=['liquidity', 'model'], xlim=(TICK_MIN_LIMIT, TICK_MAX_LIMIT), style=['-', '--'])"
   ]
  },
  {
   "cell_type": "code",
   "execution_count": null,
   "id": "4f807171-a7d1-4974-9626-146602105c14",
   "metadata": {},
   "outputs": [],
   "source": []
  }
 ],
 "metadata": {
  "kernelspec": {
   "display_name": "Python 3 (ipykernel)",
   "language": "python",
   "name": "python3"
  },
  "language_info": {
   "codemirror_mode": {
    "name": "ipython",
    "version": 3
   },
   "file_extension": ".py",
   "mimetype": "text/x-python",
   "name": "python",
   "nbconvert_exporter": "python",
   "pygments_lexer": "ipython3",
   "version": "3.11.11"
  }
 },
 "nbformat": 4,
 "nbformat_minor": 5
}
