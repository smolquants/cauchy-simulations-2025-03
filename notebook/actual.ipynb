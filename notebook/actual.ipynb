{
 "cells": [
  {
   "cell_type": "code",
   "execution_count": 1,
   "id": "d0dc0254-955b-4874-aa67-26c630a149bb",
   "metadata": {},
   "outputs": [],
   "source": [
    "import pandas as pd\n",
    "import numpy as np\n",
    "\n",
    "from starknet_py.net.account.account import Account\n",
    "from starknet_py.net.full_node_client import FullNodeClient\n",
    "from starknet_py.net.models.chains import StarknetChainId\n",
    "from starknet_py.net.signer.key_pair import KeyPair\n",
    "from starknet_py.net.signer.stark_curve_signer import StarkCurveSigner\n",
    "from starknet_py.contract import Contract\n",
    "\n",
    "from cauchy_simulations import CauchyLiquidityProfile, ModifiedCauchyLiquidityProfile, from_bps_tick"
   ]
  },
  {
   "cell_type": "code",
   "execution_count": 2,
   "id": "7995c718-07b8-4e2f-8b52-8884438b460e",
   "metadata": {},
   "outputs": [],
   "source": [
    "client = FullNodeClient(node_url=\"https://rpc.starknet.lava.build:443\")"
   ]
  },
  {
   "cell_type": "code",
   "execution_count": 3,
   "id": "d00567d2-d1a2-4b1f-9f9c-05fff018c6d6",
   "metadata": {},
   "outputs": [],
   "source": [
    "account = Account(\n",
    "    client=client,\n",
    "    address=\"0x4321\",\n",
    "    key_pair=KeyPair(private_key=654, public_key=321),\n",
    "    chain=StarknetChainId.MAINNET,\n",
    ")"
   ]
  },
  {
   "cell_type": "code",
   "execution_count": 4,
   "id": "383fb619-d727-40c0-881c-3f2f23743fbd",
   "metadata": {},
   "outputs": [],
   "source": [
    "LP_ADDRESS = \"0x02253efb6547890843ed4e3d315d40307660ecb72e7364667c90700ecffae490\"\n",
    "CORE_ADDRESS = \"0x5dd3d2f4429af886cd1a3b08289dbcea99a294197e9eb43b0e0325b4b\"\n",
    "PROFILE_ADDRESS = \"0x510584005169c065c9ff729e93989c84a50e8ee1037a8a368a332145d0ad646\""
   ]
  },
  {
   "cell_type": "code",
   "execution_count": 6,
   "id": "73d8b27c-6577-439e-8cc7-3505540b488c",
   "metadata": {},
   "outputs": [],
   "source": [
    "lp_contract = await Contract.from_address(address=LP_ADDRESS, provider=account)"
   ]
  },
  {
   "cell_type": "code",
   "execution_count": 7,
   "id": "b7116de1-f573-41f8-9bbb-a41b4c3d3b5e",
   "metadata": {},
   "outputs": [
    {
     "data": {
      "text/plain": [
       "dict_keys(['get_primary_interface_id', 'create_and_initialize_pool', 'compound_fees', 'add_liquidity', 'remove_liquidity', 'core', 'profile', 'pool_token', 'pool_liquidity_factor', 'pool_reserves', 'pool_minimum_liquidity_factor', 'locked', 'before_initialize_pool', 'after_initialize_pool', 'before_swap', 'after_swap', 'before_update_position', 'after_update_position', 'before_collect_fees', 'after_collect_fees', 'get_owner', 'transfer_ownership', 'replace_class_hash', 'sweep'])"
      ]
     },
     "execution_count": 7,
     "metadata": {},
     "output_type": "execute_result"
    }
   ],
   "source": [
    "lp_contract.functions.keys()"
   ]
  },
  {
   "cell_type": "code",
   "execution_count": 8,
   "id": "dfe39a35-aa09-4e6f-8938-6d39827384a3",
   "metadata": {},
   "outputs": [
    {
     "data": {
      "text/plain": [
       "(OrderedDict([('contract_address',\n",
       "               158098919692956613592021320609952044916245725306097615271255138786123)]),)"
      ]
     },
     "execution_count": 8,
     "metadata": {},
     "output_type": "execute_result"
    }
   ],
   "source": [
    "await lp_contract.functions['core'].call()"
   ]
  },
  {
   "cell_type": "code",
   "execution_count": 9,
   "id": "4fa718eb-acce-4d3d-8e02-ce590b82e1a5",
   "metadata": {},
   "outputs": [
    {
     "data": {
      "text/plain": [
       "(OrderedDict([('contract_address',\n",
       "               2290442875603752814070917145208699944902623559823440137512872934644430591558)]),)"
      ]
     },
     "execution_count": 9,
     "metadata": {},
     "output_type": "execute_result"
    }
   ],
   "source": [
    "await lp_contract.functions['profile'].call()"
   ]
  },
  {
   "cell_type": "code",
   "execution_count": 10,
   "id": "3d863b03-097d-40b9-8ce2-3659b1b45ca5",
   "metadata": {},
   "outputs": [],
   "source": [
    "# WBTC/WWBTC 1bps fee, 0.01bps spacing pool\n",
    "pool_key = {\n",
    "    \"token0\": 0x03fe2b97c1fd336e750087d68b9b867997fd64a2661ff3ca5a7c771641e8e7ac, # token0\n",
    "    \"token1\": 0x0577bddfccc35c714e99638d4f03ee6bc51e38895c7abc4df1b1e1ab4854b2ce, # token1\n",
    "    \"fee\": 34028236692093846346337460743176821, # fee\n",
    "    \"tick_spacing\": 1, # tick spacing\n",
    "    \"extension\": 0x02253efb6547890843ed4e3d315d40307660ecb72e7364667c90700ecffae490, # extension\n",
    "}"
   ]
  },
  {
   "cell_type": "code",
   "execution_count": 11,
   "id": "4055491a-e945-4692-ad76-73793324068f",
   "metadata": {},
   "outputs": [
    {
     "data": {
      "text/plain": [
       "((11589, 12206),)"
      ]
     },
     "execution_count": 11,
     "metadata": {},
     "output_type": "execute_result"
    }
   ],
   "source": [
    "await lp_contract.functions['pool_reserves'].call(pool_key)"
   ]
  },
  {
   "cell_type": "code",
   "execution_count": 12,
   "id": "3e9967b1-a968-4245-ac2d-2476436cd25e",
   "metadata": {},
   "outputs": [],
   "source": [
    "core_contract = await Contract.from_address(address=CORE_ADDRESS, provider=account)"
   ]
  },
  {
   "cell_type": "code",
   "execution_count": 13,
   "id": "44e2455c-c610-4034-abd3-534cc7bdb54c",
   "metadata": {},
   "outputs": [
    {
     "data": {
      "text/plain": [
       "dict_keys(['get_primary_interface_id', 'get_protocol_fees_collected', 'get_locker_state', 'get_locker_delta', 'get_pool_price', 'get_pool_liquidity', 'get_pool_fees_per_liquidity', 'get_pool_fees_per_liquidity_inside', 'get_pool_tick_liquidity_delta', 'get_pool_tick_liquidity_net', 'get_pool_tick_fees_outside', 'get_position', 'get_position_with_fees', 'get_saved_balance', 'next_initialized_tick', 'prev_initialized_tick', 'withdraw_all_protocol_fees', 'withdraw_protocol_fees', 'lock', 'forward', 'withdraw', 'save', 'pay', 'load', 'initialize_pool', 'maybe_initialize_pool', 'update_position', 'collect_fees', 'swap', 'accumulate_as_fees', 'set_call_points', 'get_call_points', 'get_owner', 'transfer_ownership', 'replace_class_hash'])"
      ]
     },
     "execution_count": 13,
     "metadata": {},
     "output_type": "execute_result"
    }
   ],
   "source": [
    "core_contract.functions.keys()"
   ]
  },
  {
   "cell_type": "code",
   "execution_count": 14,
   "id": "0bc76bc0-1e24-473c-9ffa-e336a53b4526",
   "metadata": {},
   "outputs": [],
   "source": [
    "profile_contract = await Contract.from_address(address=PROFILE_ADDRESS, provider=account)"
   ]
  },
  {
   "cell_type": "code",
   "execution_count": 15,
   "id": "0fe352f0-1c30-48b3-99b2-acf423c8fc79",
   "metadata": {},
   "outputs": [
    {
     "data": {
      "text/plain": [
       "dict_keys(['initial_liquidity_factor', 'description', 'set_liquidity_profile', 'get_liquidity_profile', 'get_liquidity_updates', 'get_bounds_for_liquidity_updates'])"
      ]
     },
     "execution_count": 15,
     "metadata": {},
     "output_type": "execute_result"
    }
   ],
   "source": [
    "profile_contract.functions.keys()"
   ]
  },
  {
   "cell_type": "code",
   "execution_count": 16,
   "id": "61ec1b8e-ea80-48a9-8104-acb3ce165373",
   "metadata": {},
   "outputs": [],
   "source": [
    "ZERO_I129 = {\n",
    "    \"mag\": 0,\n",
    "    \"sign\": False,\n",
    "}"
   ]
  },
  {
   "cell_type": "code",
   "execution_count": 17,
   "id": "1b4f3e6c-8516-47c9-bfd1-2f7ed70e52f9",
   "metadata": {},
   "outputs": [],
   "source": [
    "(liquidity_update_params,) = await profile_contract.functions['get_liquidity_updates'].call(pool_key, ZERO_I129)"
   ]
  },
  {
   "cell_type": "code",
   "execution_count": 18,
   "id": "b9ddb702-ad4d-4dc1-9ec0-cbc450ac3dda",
   "metadata": {},
   "outputs": [],
   "source": [
    "data = {'tick': [], 'liquidity_delta': []}"
   ]
  },
  {
   "cell_type": "code",
   "execution_count": 19,
   "id": "e6d8bfbb-45b3-4ed0-ba22-79a6f8cefd58",
   "metadata": {},
   "outputs": [],
   "source": [
    "def i129_to_int(i: dict) -> int:\n",
    "    return -i['mag'] if i['sign'] else i['mag']"
   ]
  },
  {
   "cell_type": "code",
   "execution_count": 20,
   "id": "31a6a85d-c604-4afe-a40d-8b481acb9dc9",
   "metadata": {},
   "outputs": [
    {
     "name": "stdout",
     "output_type": "stream",
     "text": [
      "tick range: (-88722883, 88722883)\n",
      "liq delta lower: 5040\n",
      "liq delta upper: -5040\n",
      "tick range: (-16000, 16001)\n",
      "liq delta lower: 79510\n",
      "liq delta upper: -79510\n",
      "tick range: (-14000, 14001)\n",
      "liq delta lower: 23853\n",
      "liq delta upper: -23853\n",
      "tick range: (-12000, 12001)\n",
      "liq delta lower: 36318\n",
      "liq delta upper: -36318\n",
      "tick range: (-10000, 10001)\n",
      "liq delta lower: 59097\n",
      "liq delta upper: -59097\n",
      "tick range: (-8000, 8001)\n",
      "liq delta lower: 105237\n",
      "liq delta upper: -105237\n",
      "tick range: (-7000, 7001)\n",
      "liq delta lower: 86042\n",
      "liq delta upper: -86042\n",
      "tick range: (-6000, 6001)\n",
      "liq delta lower: 126768\n",
      "liq delta upper: -126768\n",
      "tick range: (-5000, 5001)\n",
      "liq delta lower: 196040\n",
      "liq delta upper: -196040\n",
      "tick range: (-4000, 4001)\n",
      "liq delta lower: 320789\n",
      "liq delta upper: -320789\n",
      "tick range: (-3500, 3501)\n",
      "liq delta lower: 238534\n",
      "liq delta upper: -238534\n",
      "tick range: (-3000, 3001)\n",
      "liq delta lower: 318048\n",
      "liq delta upper: -318048\n",
      "tick range: (-2500, 2501)\n",
      "liq delta lower: 426648\n",
      "liq delta upper: -426648\n",
      "tick range: (-2000, 2001)\n",
      "liq delta lower: 567251\n",
      "liq delta upper: -567251\n",
      "tick range: (-1750, 1751)\n",
      "liq delta lower: 343027\n",
      "liq delta upper: -343027\n",
      "tick range: (-1500, 1501)\n",
      "liq delta lower: 380532\n",
      "liq delta upper: -380532\n",
      "tick range: (-1250, 1251)\n",
      "liq delta lower: 408815\n",
      "liq delta upper: -408815\n",
      "tick range: (-1000, 1001)\n",
      "liq delta lower: 418108\n",
      "liq delta upper: -418108\n",
      "tick range: (-750, 751)\n",
      "liq delta lower: 396470\n",
      "liq delta upper: -396470\n",
      "tick range: (-500, 501)\n",
      "liq delta lower: 333169\n",
      "liq delta upper: -333169\n",
      "tick range: (-250, 251)\n",
      "liq delta lower: 224503\n",
      "liq delta upper: -224503\n"
     ]
    }
   ],
   "source": [
    "for params in liquidity_update_params:\n",
    "    tick_lower = i129_to_int(params['bounds']['lower'])\n",
    "    tick_upper = i129_to_int(params['bounds']['upper'])\n",
    "    data['tick'].extend([tick_lower, tick_upper])\n",
    "    print(f\"tick range: {(tick_lower, tick_upper)}\")\n",
    "\n",
    "    (result_liquidity_delta_lower, ) = await core_contract.functions[\"get_pool_tick_liquidity_delta\"].call(pool_key, params['bounds']['lower'])\n",
    "    (result_liquidity_delta_upper, ) = await core_contract.functions[\"get_pool_tick_liquidity_delta\"].call(pool_key, params['bounds']['upper'])\n",
    "    liquidity_delta_lower = i129_to_int(result_liquidity_delta_lower)\n",
    "    liquidity_delta_upper = i129_to_int(result_liquidity_delta_upper)\n",
    "    data['liquidity_delta'].extend([liquidity_delta_lower, liquidity_delta_upper])\n",
    "    print(f\"liq delta lower: {liquidity_delta_lower}\")\n",
    "    print(f\"liq delta upper: {liquidity_delta_upper}\")"
   ]
  },
  {
   "cell_type": "code",
   "execution_count": 68,
   "id": "3ecb5fa5-2c13-454f-b14d-6ca44463b23a",
   "metadata": {},
   "outputs": [],
   "source": [
    "df = pd.DataFrame(data=data)\n",
    "df = df.sort_values(by='tick')"
   ]
  },
  {
   "cell_type": "code",
   "execution_count": 69,
   "id": "660760d6-9f5b-4626-986d-a1bece3ec2c7",
   "metadata": {},
   "outputs": [],
   "source": [
    "df['liquidity'] = df['liquidity_delta'].cumsum()"
   ]
  },
  {
   "cell_type": "code",
   "execution_count": 70,
   "id": "2d478003-8d86-484a-9860-f179980c5441",
   "metadata": {},
   "outputs": [
    {
     "data": {
      "text/html": [
       "<div>\n",
       "<style scoped>\n",
       "    .dataframe tbody tr th:only-of-type {\n",
       "        vertical-align: middle;\n",
       "    }\n",
       "\n",
       "    .dataframe tbody tr th {\n",
       "        vertical-align: top;\n",
       "    }\n",
       "\n",
       "    .dataframe thead th {\n",
       "        text-align: right;\n",
       "    }\n",
       "</style>\n",
       "<table border=\"1\" class=\"dataframe\">\n",
       "  <thead>\n",
       "    <tr style=\"text-align: right;\">\n",
       "      <th></th>\n",
       "      <th>tick</th>\n",
       "      <th>liquidity_delta</th>\n",
       "      <th>liquidity</th>\n",
       "    </tr>\n",
       "  </thead>\n",
       "  <tbody>\n",
       "    <tr>\n",
       "      <th>0</th>\n",
       "      <td>-88722883</td>\n",
       "      <td>5040</td>\n",
       "      <td>5040</td>\n",
       "    </tr>\n",
       "    <tr>\n",
       "      <th>2</th>\n",
       "      <td>-16000</td>\n",
       "      <td>79510</td>\n",
       "      <td>84550</td>\n",
       "    </tr>\n",
       "    <tr>\n",
       "      <th>4</th>\n",
       "      <td>-14000</td>\n",
       "      <td>23853</td>\n",
       "      <td>108403</td>\n",
       "    </tr>\n",
       "    <tr>\n",
       "      <th>6</th>\n",
       "      <td>-12000</td>\n",
       "      <td>36318</td>\n",
       "      <td>144721</td>\n",
       "    </tr>\n",
       "    <tr>\n",
       "      <th>8</th>\n",
       "      <td>-10000</td>\n",
       "      <td>59097</td>\n",
       "      <td>203818</td>\n",
       "    </tr>\n",
       "    <tr>\n",
       "      <th>10</th>\n",
       "      <td>-8000</td>\n",
       "      <td>105237</td>\n",
       "      <td>309055</td>\n",
       "    </tr>\n",
       "    <tr>\n",
       "      <th>12</th>\n",
       "      <td>-7000</td>\n",
       "      <td>86042</td>\n",
       "      <td>395097</td>\n",
       "    </tr>\n",
       "    <tr>\n",
       "      <th>14</th>\n",
       "      <td>-6000</td>\n",
       "      <td>126768</td>\n",
       "      <td>521865</td>\n",
       "    </tr>\n",
       "    <tr>\n",
       "      <th>16</th>\n",
       "      <td>-5000</td>\n",
       "      <td>196040</td>\n",
       "      <td>717905</td>\n",
       "    </tr>\n",
       "    <tr>\n",
       "      <th>18</th>\n",
       "      <td>-4000</td>\n",
       "      <td>320789</td>\n",
       "      <td>1038694</td>\n",
       "    </tr>\n",
       "    <tr>\n",
       "      <th>20</th>\n",
       "      <td>-3500</td>\n",
       "      <td>238534</td>\n",
       "      <td>1277228</td>\n",
       "    </tr>\n",
       "    <tr>\n",
       "      <th>22</th>\n",
       "      <td>-3000</td>\n",
       "      <td>318048</td>\n",
       "      <td>1595276</td>\n",
       "    </tr>\n",
       "    <tr>\n",
       "      <th>24</th>\n",
       "      <td>-2500</td>\n",
       "      <td>426648</td>\n",
       "      <td>2021924</td>\n",
       "    </tr>\n",
       "    <tr>\n",
       "      <th>26</th>\n",
       "      <td>-2000</td>\n",
       "      <td>567251</td>\n",
       "      <td>2589175</td>\n",
       "    </tr>\n",
       "    <tr>\n",
       "      <th>28</th>\n",
       "      <td>-1750</td>\n",
       "      <td>343027</td>\n",
       "      <td>2932202</td>\n",
       "    </tr>\n",
       "    <tr>\n",
       "      <th>30</th>\n",
       "      <td>-1500</td>\n",
       "      <td>380532</td>\n",
       "      <td>3312734</td>\n",
       "    </tr>\n",
       "    <tr>\n",
       "      <th>32</th>\n",
       "      <td>-1250</td>\n",
       "      <td>408815</td>\n",
       "      <td>3721549</td>\n",
       "    </tr>\n",
       "    <tr>\n",
       "      <th>34</th>\n",
       "      <td>-1000</td>\n",
       "      <td>418108</td>\n",
       "      <td>4139657</td>\n",
       "    </tr>\n",
       "    <tr>\n",
       "      <th>36</th>\n",
       "      <td>-750</td>\n",
       "      <td>396470</td>\n",
       "      <td>4536127</td>\n",
       "    </tr>\n",
       "    <tr>\n",
       "      <th>38</th>\n",
       "      <td>-500</td>\n",
       "      <td>333169</td>\n",
       "      <td>4869296</td>\n",
       "    </tr>\n",
       "    <tr>\n",
       "      <th>40</th>\n",
       "      <td>-250</td>\n",
       "      <td>224503</td>\n",
       "      <td>5093799</td>\n",
       "    </tr>\n",
       "    <tr>\n",
       "      <th>41</th>\n",
       "      <td>251</td>\n",
       "      <td>-224503</td>\n",
       "      <td>4869296</td>\n",
       "    </tr>\n",
       "    <tr>\n",
       "      <th>39</th>\n",
       "      <td>501</td>\n",
       "      <td>-333169</td>\n",
       "      <td>4536127</td>\n",
       "    </tr>\n",
       "    <tr>\n",
       "      <th>37</th>\n",
       "      <td>751</td>\n",
       "      <td>-396470</td>\n",
       "      <td>4139657</td>\n",
       "    </tr>\n",
       "    <tr>\n",
       "      <th>35</th>\n",
       "      <td>1001</td>\n",
       "      <td>-418108</td>\n",
       "      <td>3721549</td>\n",
       "    </tr>\n",
       "    <tr>\n",
       "      <th>33</th>\n",
       "      <td>1251</td>\n",
       "      <td>-408815</td>\n",
       "      <td>3312734</td>\n",
       "    </tr>\n",
       "    <tr>\n",
       "      <th>31</th>\n",
       "      <td>1501</td>\n",
       "      <td>-380532</td>\n",
       "      <td>2932202</td>\n",
       "    </tr>\n",
       "    <tr>\n",
       "      <th>29</th>\n",
       "      <td>1751</td>\n",
       "      <td>-343027</td>\n",
       "      <td>2589175</td>\n",
       "    </tr>\n",
       "    <tr>\n",
       "      <th>27</th>\n",
       "      <td>2001</td>\n",
       "      <td>-567251</td>\n",
       "      <td>2021924</td>\n",
       "    </tr>\n",
       "    <tr>\n",
       "      <th>25</th>\n",
       "      <td>2501</td>\n",
       "      <td>-426648</td>\n",
       "      <td>1595276</td>\n",
       "    </tr>\n",
       "    <tr>\n",
       "      <th>23</th>\n",
       "      <td>3001</td>\n",
       "      <td>-318048</td>\n",
       "      <td>1277228</td>\n",
       "    </tr>\n",
       "    <tr>\n",
       "      <th>21</th>\n",
       "      <td>3501</td>\n",
       "      <td>-238534</td>\n",
       "      <td>1038694</td>\n",
       "    </tr>\n",
       "    <tr>\n",
       "      <th>19</th>\n",
       "      <td>4001</td>\n",
       "      <td>-320789</td>\n",
       "      <td>717905</td>\n",
       "    </tr>\n",
       "    <tr>\n",
       "      <th>17</th>\n",
       "      <td>5001</td>\n",
       "      <td>-196040</td>\n",
       "      <td>521865</td>\n",
       "    </tr>\n",
       "    <tr>\n",
       "      <th>15</th>\n",
       "      <td>6001</td>\n",
       "      <td>-126768</td>\n",
       "      <td>395097</td>\n",
       "    </tr>\n",
       "    <tr>\n",
       "      <th>13</th>\n",
       "      <td>7001</td>\n",
       "      <td>-86042</td>\n",
       "      <td>309055</td>\n",
       "    </tr>\n",
       "    <tr>\n",
       "      <th>11</th>\n",
       "      <td>8001</td>\n",
       "      <td>-105237</td>\n",
       "      <td>203818</td>\n",
       "    </tr>\n",
       "    <tr>\n",
       "      <th>9</th>\n",
       "      <td>10001</td>\n",
       "      <td>-59097</td>\n",
       "      <td>144721</td>\n",
       "    </tr>\n",
       "    <tr>\n",
       "      <th>7</th>\n",
       "      <td>12001</td>\n",
       "      <td>-36318</td>\n",
       "      <td>108403</td>\n",
       "    </tr>\n",
       "    <tr>\n",
       "      <th>5</th>\n",
       "      <td>14001</td>\n",
       "      <td>-23853</td>\n",
       "      <td>84550</td>\n",
       "    </tr>\n",
       "    <tr>\n",
       "      <th>3</th>\n",
       "      <td>16001</td>\n",
       "      <td>-79510</td>\n",
       "      <td>5040</td>\n",
       "    </tr>\n",
       "    <tr>\n",
       "      <th>1</th>\n",
       "      <td>88722883</td>\n",
       "      <td>-5040</td>\n",
       "      <td>0</td>\n",
       "    </tr>\n",
       "  </tbody>\n",
       "</table>\n",
       "</div>"
      ],
      "text/plain": [
       "        tick  liquidity_delta  liquidity\n",
       "0  -88722883             5040       5040\n",
       "2     -16000            79510      84550\n",
       "4     -14000            23853     108403\n",
       "6     -12000            36318     144721\n",
       "8     -10000            59097     203818\n",
       "10     -8000           105237     309055\n",
       "12     -7000            86042     395097\n",
       "14     -6000           126768     521865\n",
       "16     -5000           196040     717905\n",
       "18     -4000           320789    1038694\n",
       "20     -3500           238534    1277228\n",
       "22     -3000           318048    1595276\n",
       "24     -2500           426648    2021924\n",
       "26     -2000           567251    2589175\n",
       "28     -1750           343027    2932202\n",
       "30     -1500           380532    3312734\n",
       "32     -1250           408815    3721549\n",
       "34     -1000           418108    4139657\n",
       "36      -750           396470    4536127\n",
       "38      -500           333169    4869296\n",
       "40      -250           224503    5093799\n",
       "41       251          -224503    4869296\n",
       "39       501          -333169    4536127\n",
       "37       751          -396470    4139657\n",
       "35      1001          -418108    3721549\n",
       "33      1251          -408815    3312734\n",
       "31      1501          -380532    2932202\n",
       "29      1751          -343027    2589175\n",
       "27      2001          -567251    2021924\n",
       "25      2501          -426648    1595276\n",
       "23      3001          -318048    1277228\n",
       "21      3501          -238534    1038694\n",
       "19      4001          -320789     717905\n",
       "17      5001          -196040     521865\n",
       "15      6001          -126768     395097\n",
       "13      7001           -86042     309055\n",
       "11      8001          -105237     203818\n",
       "9      10001           -59097     144721\n",
       "7      12001           -36318     108403\n",
       "5      14001           -23853      84550\n",
       "3      16001           -79510       5040\n",
       "1   88722883            -5040          0"
      ]
     },
     "execution_count": 70,
     "metadata": {},
     "output_type": "execute_result"
    }
   ],
   "source": [
    "df"
   ]
  },
  {
   "cell_type": "code",
   "execution_count": 71,
   "id": "4954db4f-afc5-4499-8fa6-360c0aa7eb5e",
   "metadata": {},
   "outputs": [],
   "source": [
    "TICK_MIN_LIMIT = -100000\n",
    "TICK_STEP = 10"
   ]
  },
  {
   "cell_type": "code",
   "execution_count": 72,
   "id": "172690a5-6aa7-4228-ae6d-cb5c67b02d26",
   "metadata": {},
   "outputs": [],
   "source": [
    "ticks = np.arange(TICK_MIN_LIMIT, -TICK_MIN_LIMIT + 1, TICK_STEP)\n",
    "data_cleaned = {'tick': list(ticks), 'liquidity': []}"
   ]
  },
  {
   "cell_type": "code",
   "execution_count": 73,
   "id": "393e5e12-c563-4f4d-9565-a707d004f9fd",
   "metadata": {},
   "outputs": [],
   "source": [
    "for tick in ticks:\n",
    "    liquidity = df[df['tick'] <= tick]['liquidity_delta'].sum()\n",
    "    data_cleaned['liquidity'].extend([liquidity])"
   ]
  },
  {
   "cell_type": "code",
   "execution_count": 74,
   "id": "ad99f311-2733-4b59-994e-c3e417dc38bc",
   "metadata": {},
   "outputs": [],
   "source": [
    "df_cleaned = pd.DataFrame(data=data_cleaned)"
   ]
  },
  {
   "cell_type": "code",
   "execution_count": 75,
   "id": "e6ff200e-d90c-4fc7-a8d0-995bb36c0f60",
   "metadata": {},
   "outputs": [
    {
     "data": {
      "text/html": [
       "<div>\n",
       "<style scoped>\n",
       "    .dataframe tbody tr th:only-of-type {\n",
       "        vertical-align: middle;\n",
       "    }\n",
       "\n",
       "    .dataframe tbody tr th {\n",
       "        vertical-align: top;\n",
       "    }\n",
       "\n",
       "    .dataframe thead th {\n",
       "        text-align: right;\n",
       "    }\n",
       "</style>\n",
       "<table border=\"1\" class=\"dataframe\">\n",
       "  <thead>\n",
       "    <tr style=\"text-align: right;\">\n",
       "      <th></th>\n",
       "      <th>tick</th>\n",
       "      <th>liquidity</th>\n",
       "    </tr>\n",
       "  </thead>\n",
       "  <tbody>\n",
       "    <tr>\n",
       "      <th>0</th>\n",
       "      <td>-100000</td>\n",
       "      <td>5040</td>\n",
       "    </tr>\n",
       "    <tr>\n",
       "      <th>1</th>\n",
       "      <td>-99990</td>\n",
       "      <td>5040</td>\n",
       "    </tr>\n",
       "    <tr>\n",
       "      <th>2</th>\n",
       "      <td>-99980</td>\n",
       "      <td>5040</td>\n",
       "    </tr>\n",
       "    <tr>\n",
       "      <th>3</th>\n",
       "      <td>-99970</td>\n",
       "      <td>5040</td>\n",
       "    </tr>\n",
       "    <tr>\n",
       "      <th>4</th>\n",
       "      <td>-99960</td>\n",
       "      <td>5040</td>\n",
       "    </tr>\n",
       "    <tr>\n",
       "      <th>...</th>\n",
       "      <td>...</td>\n",
       "      <td>...</td>\n",
       "    </tr>\n",
       "    <tr>\n",
       "      <th>19996</th>\n",
       "      <td>99960</td>\n",
       "      <td>5040</td>\n",
       "    </tr>\n",
       "    <tr>\n",
       "      <th>19997</th>\n",
       "      <td>99970</td>\n",
       "      <td>5040</td>\n",
       "    </tr>\n",
       "    <tr>\n",
       "      <th>19998</th>\n",
       "      <td>99980</td>\n",
       "      <td>5040</td>\n",
       "    </tr>\n",
       "    <tr>\n",
       "      <th>19999</th>\n",
       "      <td>99990</td>\n",
       "      <td>5040</td>\n",
       "    </tr>\n",
       "    <tr>\n",
       "      <th>20000</th>\n",
       "      <td>100000</td>\n",
       "      <td>5040</td>\n",
       "    </tr>\n",
       "  </tbody>\n",
       "</table>\n",
       "<p>20001 rows × 2 columns</p>\n",
       "</div>"
      ],
      "text/plain": [
       "         tick  liquidity\n",
       "0     -100000       5040\n",
       "1      -99990       5040\n",
       "2      -99980       5040\n",
       "3      -99970       5040\n",
       "4      -99960       5040\n",
       "...       ...        ...\n",
       "19996   99960       5040\n",
       "19997   99970       5040\n",
       "19998   99980       5040\n",
       "19999   99990       5040\n",
       "20000  100000       5040\n",
       "\n",
       "[20001 rows x 2 columns]"
      ]
     },
     "execution_count": 75,
     "metadata": {},
     "output_type": "execute_result"
    }
   ],
   "source": [
    "df_cleaned"
   ]
  },
  {
   "cell_type": "code",
   "execution_count": 76,
   "id": "4dde6f0f-8418-4f24-b027-39d0003d7b14",
   "metadata": {},
   "outputs": [
    {
     "data": {
      "text/plain": [
       "<Axes: xlabel='tick'>"
      ]
     },
     "execution_count": 76,
     "metadata": {},
     "output_type": "execute_result"
    },
    {
     "data": {
      "image/png": "[encoded data removed]",
      "text/plain": [
       "<Figure size 640x480 with 1 Axes>"
      ]
     },
     "metadata": {},
     "output_type": "display_data"
    }
   ],
   "source": [
    "df_cleaned.plot(x='tick', y='liquidity', xlim=(-10000, 10000))"
   ]
  },
  {
   "cell_type": "code",
   "execution_count": 77,
   "id": "d72fb10b-8845-4864-a919-df29358bfa9b",
   "metadata": {},
   "outputs": [
    {
     "data": {
      "text/plain": [
       "<Axes: xlabel='tick'>"
      ]
     },
     "execution_count": 77,
     "metadata": {},
     "output_type": "execute_result"
    },
    {
     "data": {
      "image/png": "[encoded data removed]",
      "text/plain": [
       "<Figure size 640x480 with 1 Axes>"
      ]
     },
     "metadata": {},
     "output_type": "display_data"
    }
   ],
   "source": [
    "df_cleaned.plot(x='tick', y='liquidity', xlim=(-20000, 20000))"
   ]
  },
  {
   "cell_type": "code",
   "execution_count": 78,
   "id": "54a86cab-c3c1-4b61-ac53-a15accad06d1",
   "metadata": {},
   "outputs": [
    {
     "data": {
      "text/plain": [
       "32473224044"
      ]
     },
     "execution_count": 78,
     "metadata": {},
     "output_type": "execute_result"
    }
   ],
   "source": [
    "# normalize by pool liquidity factor\n",
    "(lf, ) = await lp_contract.functions['pool_liquidity_factor'].call(pool_key)\n",
    "lf"
   ]
  },
  {
   "cell_type": "code",
   "execution_count": 79,
   "id": "d5ad4c3f-aff8-4743-a30d-dafed65b1f53",
   "metadata": {},
   "outputs": [],
   "source": [
    "GAMMA = 2000\n",
    "PEG = 64000\n",
    "mclp = ModifiedCauchyLiquidityProfile(c=lf, gamma=GAMMA, peg=PEG)"
   ]
  },
  {
   "cell_type": "code",
   "execution_count": 80,
   "id": "e5834891-f5af-4157-9f04-714bb8ae1048",
   "metadata": {},
   "outputs": [],
   "source": [
    "df_cleaned['model'] = mclp.at(df_cleaned['tick'])"
   ]
  },
  {
   "cell_type": "code",
   "execution_count": 81,
   "id": "ab9dcf76-c711-44ec-8b0d-41d42eb91b4e",
   "metadata": {},
   "outputs": [
    {
     "data": {
      "text/html": [
       "<div>\n",
       "<style scoped>\n",
       "    .dataframe tbody tr th:only-of-type {\n",
       "        vertical-align: middle;\n",
       "    }\n",
       "\n",
       "    .dataframe tbody tr th {\n",
       "        vertical-align: top;\n",
       "    }\n",
       "\n",
       "    .dataframe thead th {\n",
       "        text-align: right;\n",
       "    }\n",
       "</style>\n",
       "<table border=\"1\" class=\"dataframe\">\n",
       "  <thead>\n",
       "    <tr style=\"text-align: right;\">\n",
       "      <th></th>\n",
       "      <th>tick</th>\n",
       "      <th>liquidity</th>\n",
       "      <th>model</th>\n",
       "    </tr>\n",
       "  </thead>\n",
       "  <tbody>\n",
       "    <tr>\n",
       "      <th>0</th>\n",
       "      <td>-100000</td>\n",
       "      <td>5040</td>\n",
       "      <td>7108.701715</td>\n",
       "    </tr>\n",
       "    <tr>\n",
       "      <th>1</th>\n",
       "      <td>-99990</td>\n",
       "      <td>5040</td>\n",
       "      <td>7109.114908</td>\n",
       "    </tr>\n",
       "    <tr>\n",
       "      <th>2</th>\n",
       "      <td>-99980</td>\n",
       "      <td>5040</td>\n",
       "      <td>7109.528225</td>\n",
       "    </tr>\n",
       "    <tr>\n",
       "      <th>3</th>\n",
       "      <td>-99970</td>\n",
       "      <td>5040</td>\n",
       "      <td>7109.941667</td>\n",
       "    </tr>\n",
       "    <tr>\n",
       "      <th>4</th>\n",
       "      <td>-99960</td>\n",
       "      <td>5040</td>\n",
       "      <td>7110.355232</td>\n",
       "    </tr>\n",
       "    <tr>\n",
       "      <th>...</th>\n",
       "      <td>...</td>\n",
       "      <td>...</td>\n",
       "      <td>...</td>\n",
       "    </tr>\n",
       "    <tr>\n",
       "      <th>19996</th>\n",
       "      <td>99960</td>\n",
       "      <td>5040</td>\n",
       "      <td>7110.355232</td>\n",
       "    </tr>\n",
       "    <tr>\n",
       "      <th>19997</th>\n",
       "      <td>99970</td>\n",
       "      <td>5040</td>\n",
       "      <td>7109.941667</td>\n",
       "    </tr>\n",
       "    <tr>\n",
       "      <th>19998</th>\n",
       "      <td>99980</td>\n",
       "      <td>5040</td>\n",
       "      <td>7109.528225</td>\n",
       "    </tr>\n",
       "    <tr>\n",
       "      <th>19999</th>\n",
       "      <td>99990</td>\n",
       "      <td>5040</td>\n",
       "      <td>7109.114908</td>\n",
       "    </tr>\n",
       "    <tr>\n",
       "      <th>20000</th>\n",
       "      <td>100000</td>\n",
       "      <td>5040</td>\n",
       "      <td>7108.701715</td>\n",
       "    </tr>\n",
       "  </tbody>\n",
       "</table>\n",
       "<p>20001 rows × 3 columns</p>\n",
       "</div>"
      ],
      "text/plain": [
       "         tick  liquidity        model\n",
       "0     -100000       5040  7108.701715\n",
       "1      -99990       5040  7109.114908\n",
       "2      -99980       5040  7109.528225\n",
       "3      -99970       5040  7109.941667\n",
       "4      -99960       5040  7110.355232\n",
       "...       ...        ...          ...\n",
       "19996   99960       5040  7110.355232\n",
       "19997   99970       5040  7109.941667\n",
       "19998   99980       5040  7109.528225\n",
       "19999   99990       5040  7109.114908\n",
       "20000  100000       5040  7108.701715\n",
       "\n",
       "[20001 rows x 3 columns]"
      ]
     },
     "execution_count": 81,
     "metadata": {},
     "output_type": "execute_result"
    }
   ],
   "source": [
    "# ya so wanna change profile to be bounds of (-x, x + tick_spacing) for each x adding liq to\n",
    "# given poolState.liquidity is sum of liquidity delta from\n",
    "# t >= min_tick to t <= poolState.tick (inclusive of liq delta value on positive side)\n",
    "# which is tilting are current setup slightly\n",
    "# with new bounds negative liquidity delta less on positive side bound wont get added in until\n",
    "# after next tick spacing \n",
    "df_cleaned"
   ]
  },
  {
   "cell_type": "code",
   "execution_count": 84,
   "id": "b7aa52c4-f78f-4342-90da-e993ff261c5e",
   "metadata": {},
   "outputs": [
    {
     "data": {
      "text/plain": [
       "<Axes: xlabel='tick'>"
      ]
     },
     "execution_count": 84,
     "metadata": {},
     "output_type": "execute_result"
    },
    {
     "data": {
      "image/png": "[encoded data removed]",
      "text/plain": [
       "<Figure size 640x480 with 1 Axes>"
      ]
     },
     "metadata": {},
     "output_type": "display_data"
    }
   ],
   "source": [
    "df_cleaned.plot(x='tick', y=['liquidity', 'model'], xlim=(-20000, 20000), style=['-', '--'])"
   ]
  },
  {
   "cell_type": "code",
   "execution_count": 85,
   "id": "ec548509-e5db-4792-a3e7-ec72165dda0b",
   "metadata": {},
   "outputs": [
    {
     "data": {
      "text/plain": [
       "<Axes: xlabel='tick'>"
      ]
     },
     "execution_count": 85,
     "metadata": {},
     "output_type": "execute_result"
    },
    {
     "data": {
      "image/png": "[encoded data removed]",
      "text/plain": [
       "<Figure size 640x480 with 1 Axes>"
      ]
     },
     "metadata": {},
     "output_type": "display_data"
    }
   ],
   "source": [
    "df_cleaned.plot(x='tick', y=['liquidity', 'model'], xlim=(-100000, 100000), style=['-', '--'])"
   ]
  },
  {
   "cell_type": "code",
   "execution_count": null,
   "id": "4f807171-a7d1-4974-9626-146602105c14",
   "metadata": {},
   "outputs": [],
   "source": []
  }
 ],
 "metadata": {
  "kernelspec": {
   "display_name": "Python 3 (ipykernel)",
   "language": "python",
   "name": "python3"
  },
  "language_info": {
   "codemirror_mode": {
    "name": "ipython",
    "version": 3
   },
   "file_extension": ".py",
   "mimetype": "text/x-python",
   "name": "python",
   "nbconvert_exporter": "python",
   "pygments_lexer": "ipython3",
   "version": "3.11.11"
  }
 },
 "nbformat": 4,
 "nbformat_minor": 5
}
