{
 "cells": [
  {
   "cell_type": "code",
   "execution_count": null,
   "id": "a35c7d5a-4723-4796-9472-b3b32d26f8d7",
   "metadata": {},
   "outputs": [],
   "source": []
  }
 ],
 "metadata": {
  "kernelspec": {
   "display_name": "",
   "name": ""
  },
  "language_info": {
   "name": ""
  }
 },
 "nbformat": 4,
 "nbformat_minor": 5
}
