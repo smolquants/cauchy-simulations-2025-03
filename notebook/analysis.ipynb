{
 "cells": [
  {
   "cell_type": "code",
   "execution_count": 16,
   "id": "a35c7d5a-4723-4796-9472-b3b32d26f8d7",
   "metadata": {},
   "outputs": [],
   "source": [
    "import numpy as np\n",
    "import pandas as pd\n",
    "\n",
    "from pydantic import BaseModel, PydanticUserError\n",
    "from scipy.stats import cauchy\n",
    "import matplotlib.pyplot as plt"
   ]
  },
  {
   "cell_type": "code",
   "execution_count": 17,
   "id": "1852def9-4897-4ec7-a394-da93282ee3d4",
   "metadata": {},
   "outputs": [],
   "source": [
    "class LiquidityProfile(BaseModel):\n",
    "    \"\"\"\n",
    "    Generic model for concentrated liquidity global liquidity density function.\n",
    "    \n",
    "    Should require int_{-\\infty}^{\\infty} l(t)dt = C, where C is a global constant\n",
    "    when no LPs add or remove funds from pool.\n",
    "\n",
    "    Assumes continuous liquidity profile and input ticks are in \"natural log\" form\n",
    "    such that price p = e ** (t), where t is the tick.\n",
    "    \"\"\"\n",
    "    c: float\n",
    "\n",
    "    def at(self, t: int) -> int:\n",
    "        \"\"\"\n",
    "        `at` takes a tick value as input and returns the concentrated liquidity value\n",
    "        in the pool.\n",
    "        \"\"\"\n",
    "        raise PydanticUserError(\"Function not implemented.\", code=None)\n",
    "\n",
    "    def slip_y(self, t: int) -> int:\n",
    "        \"\"\"\n",
    "        Tick slippage with respect to an infinitesimal amount of y.\n",
    "        \"\"\"\n",
    "        return (2 / lp.at(t)) * np.exp(-t/2)\n",
    "\n",
    "    def slip_x(self, t: int) -> int:\n",
    "        \"\"\"\n",
    "        Tick slippage with respect to an infinitesimal amount of x.\n",
    "        \"\"\"\n",
    "        return - (2 / lp.at(t)) * np.exp(t/2)"
   ]
  },
  {
   "cell_type": "code",
   "execution_count": 18,
   "id": "1cd192dc-cfd9-424d-83e1-95a3ba1429c9",
   "metadata": {},
   "outputs": [],
   "source": [
    "class CauchyLiquidityProfile(LiquidityProfile):\n",
    "    \"\"\"\n",
    "    Cauchy distribution liquidity profile, with shape described by one scale parameter: gamma.\n",
    "\n",
    "    l(t) = (c / (pi * gamma)) * (1 / (1 + (t / gamma) ** 2))\n",
    "    \"\"\"\n",
    "    gamma: float\n",
    "\n",
    "    def at(self, t: int) -> int:\n",
    "        return self.c * cauchy.pdf(t, 0, self.gamma)"
   ]
  },
  {
   "cell_type": "code",
   "execution_count": 19,
   "id": "11969a80-fb1f-41ba-bca4-0836c5e70963",
   "metadata": {},
   "outputs": [],
   "source": [
    "def from_bps_tick(tb: int) -> int:\n",
    "    \"\"\"\n",
    "    Converts tick in bps form i.e. p = 1.0001 ** (tb)\n",
    "    to tick in natural log form: p = e ** (t).\n",
    "    \"\"\"\n",
    "    return np.log(1.0001) * tb"
   ]
  },
  {
   "cell_type": "code",
   "execution_count": 20,
   "id": "26cb8a9e-d517-40e7-b2cf-474c397f6fdf",
   "metadata": {},
   "outputs": [],
   "source": [
    "C = 10.0  # total liquidity parameter\n",
    "GAMMA = 0.1  # scale parameter\n",
    "MAX_TICK = 887272"
   ]
  },
  {
   "cell_type": "code",
   "execution_count": 21,
   "id": "7ce5e608-eb41-4be8-a8d4-f3ac89299d70",
   "metadata": {},
   "outputs": [],
   "source": [
    "clp = CauchyLiquidityProfile(c=C, gamma=GAMMA)"
   ]
  },
  {
   "cell_type": "code",
   "execution_count": 22,
   "id": "ff150fb1-8926-4669-8cb9-0195f8ea29fa",
   "metadata": {},
   "outputs": [
    {
     "data": {
      "text/plain": [
       "True"
      ]
     },
     "execution_count": 22,
     "metadata": {},
     "output_type": "execute_result"
    }
   ],
   "source": [
    "# should be c / (pi * gamma)\n",
    "clp.at(0) == C / (np.pi * GAMMA)"
   ]
  },
  {
   "cell_type": "code",
   "execution_count": 23,
   "id": "2e80541f-40a4-4c09-9a9d-ba929e2c3284",
   "metadata": {},
   "outputs": [],
   "source": [
    "# plot liquidity profile over ticks\n",
    "bps_ticks = np.arange(start=-MAX_TICK, stop=MAX_TICK, step=10)\n",
    "log_ticks = from_bps_tick(bps_ticks)\n",
    "liquidities = clp.at(log_ticks)"
   ]
  },
  {
   "cell_type": "code",
   "execution_count": 24,
   "id": "b13c24e6-3a0b-4788-87f7-3b7cf7d74b71",
   "metadata": {},
   "outputs": [
    {
     "data": {
      "text/html": [
       "<div>\n",
       "<style scoped>\n",
       "    .dataframe tbody tr th:only-of-type {\n",
       "        vertical-align: middle;\n",
       "    }\n",
       "\n",
       "    .dataframe tbody tr th {\n",
       "        vertical-align: top;\n",
       "    }\n",
       "\n",
       "    .dataframe thead th {\n",
       "        text-align: right;\n",
       "    }\n",
       "</style>\n",
       "<table border=\"1\" class=\"dataframe\">\n",
       "  <thead>\n",
       "    <tr style=\"text-align: right;\">\n",
       "      <th></th>\n",
       "      <th>bps_ticks</th>\n",
       "      <th>log_ticks</th>\n",
       "      <th>l(t) [c=10.0, g=0.1]</th>\n",
       "    </tr>\n",
       "  </thead>\n",
       "  <tbody>\n",
       "    <tr>\n",
       "      <th>0</th>\n",
       "      <td>-887272</td>\n",
       "      <td>-88.722764</td>\n",
       "      <td>0.00004</td>\n",
       "    </tr>\n",
       "    <tr>\n",
       "      <th>1</th>\n",
       "      <td>-887262</td>\n",
       "      <td>-88.721764</td>\n",
       "      <td>0.00004</td>\n",
       "    </tr>\n",
       "    <tr>\n",
       "      <th>2</th>\n",
       "      <td>-887252</td>\n",
       "      <td>-88.720764</td>\n",
       "      <td>0.00004</td>\n",
       "    </tr>\n",
       "    <tr>\n",
       "      <th>3</th>\n",
       "      <td>-887242</td>\n",
       "      <td>-88.719764</td>\n",
       "      <td>0.00004</td>\n",
       "    </tr>\n",
       "    <tr>\n",
       "      <th>4</th>\n",
       "      <td>-887232</td>\n",
       "      <td>-88.718764</td>\n",
       "      <td>0.00004</td>\n",
       "    </tr>\n",
       "    <tr>\n",
       "      <th>...</th>\n",
       "      <td>...</td>\n",
       "      <td>...</td>\n",
       "      <td>...</td>\n",
       "    </tr>\n",
       "    <tr>\n",
       "      <th>177450</th>\n",
       "      <td>887228</td>\n",
       "      <td>88.718364</td>\n",
       "      <td>0.00004</td>\n",
       "    </tr>\n",
       "    <tr>\n",
       "      <th>177451</th>\n",
       "      <td>887238</td>\n",
       "      <td>88.719364</td>\n",
       "      <td>0.00004</td>\n",
       "    </tr>\n",
       "    <tr>\n",
       "      <th>177452</th>\n",
       "      <td>887248</td>\n",
       "      <td>88.720364</td>\n",
       "      <td>0.00004</td>\n",
       "    </tr>\n",
       "    <tr>\n",
       "      <th>177453</th>\n",
       "      <td>887258</td>\n",
       "      <td>88.721364</td>\n",
       "      <td>0.00004</td>\n",
       "    </tr>\n",
       "    <tr>\n",
       "      <th>177454</th>\n",
       "      <td>887268</td>\n",
       "      <td>88.722364</td>\n",
       "      <td>0.00004</td>\n",
       "    </tr>\n",
       "  </tbody>\n",
       "</table>\n",
       "<p>177455 rows × 3 columns</p>\n",
       "</div>"
      ],
      "text/plain": [
       "        bps_ticks  log_ticks  l(t) [c=10.0, g=0.1]\n",
       "0         -887272 -88.722764               0.00004\n",
       "1         -887262 -88.721764               0.00004\n",
       "2         -887252 -88.720764               0.00004\n",
       "3         -887242 -88.719764               0.00004\n",
       "4         -887232 -88.718764               0.00004\n",
       "...           ...        ...                   ...\n",
       "177450     887228  88.718364               0.00004\n",
       "177451     887238  88.719364               0.00004\n",
       "177452     887248  88.720364               0.00004\n",
       "177453     887258  88.721364               0.00004\n",
       "177454     887268  88.722364               0.00004\n",
       "\n",
       "[177455 rows x 3 columns]"
      ]
     },
     "execution_count": 24,
     "metadata": {},
     "output_type": "execute_result"
    }
   ],
   "source": [
    "df = pd.DataFrame(data={'bps_ticks': bps_ticks, 'log_ticks': log_ticks, f'l(t) [c={C}, g={GAMMA}]': liquidities})\n",
    "df"
   ]
  },
  {
   "cell_type": "code",
   "execution_count": 25,
   "id": "b64685e9-4fe0-45b7-9ead-04bd82d11e3e",
   "metadata": {},
   "outputs": [
    {
     "data": {
      "text/plain": [
       "<Axes: xlabel='bps_ticks'>"
      ]
     },
     "execution_count": 25,
     "metadata": {},
     "output_type": "execute_result"
    },
    {
     "data": {
      "image/png": "[encoded data removed]",
      "text/plain": [
       "<Figure size 640x480 with 1 Axes>"
      ]
     },
     "metadata": {},
     "output_type": "display_data"
    }
   ],
   "source": [
    "# plot +/- 60% \n",
    "df.plot(x='bps_ticks', y=f'l(t) [c={C}, g={GAMMA}]', xlim=(-MAX_TICK // 100, MAX_TICK // 100), color='C1')"
   ]
  },
  {
   "cell_type": "code",
   "execution_count": 26,
   "id": "0b4f6830-a1bb-4a26-ae08-2b81d138537a",
   "metadata": {},
   "outputs": [],
   "source": [
    "# generate for more gammas\n",
    "gammas = np.array([0.05, 0.1, 0.25, 0.5])"
   ]
  },
  {
   "cell_type": "code",
   "execution_count": 27,
   "id": "9c3b8273-2073-4fa8-abc5-1041df09c591",
   "metadata": {},
   "outputs": [
    {
     "data": {
      "text/plain": [
       "array([0.05, 0.1 , 0.25, 0.5 ])"
      ]
     },
     "execution_count": 27,
     "metadata": {},
     "output_type": "execute_result"
    }
   ],
   "source": [
    "gammas"
   ]
  },
  {
   "cell_type": "code",
   "execution_count": 28,
   "id": "a9a936e1-6941-4c8e-967c-842dc41a51c9",
   "metadata": {},
   "outputs": [],
   "source": [
    "for g in gammas:\n",
    "    df[f'l(t) [c={C}, g={g}]'] = CauchyLiquidityProfile(c=C, gamma=g).at(log_ticks)"
   ]
  },
  {
   "cell_type": "code",
   "execution_count": 29,
   "id": "69a5077f-66b8-465e-b23a-0cdf9d33530a",
   "metadata": {},
   "outputs": [
    {
     "data": {
      "text/html": [
       "<div>\n",
       "<style scoped>\n",
       "    .dataframe tbody tr th:only-of-type {\n",
       "        vertical-align: middle;\n",
       "    }\n",
       "\n",
       "    .dataframe tbody tr th {\n",
       "        vertical-align: top;\n",
       "    }\n",
       "\n",
       "    .dataframe thead th {\n",
       "        text-align: right;\n",
       "    }\n",
       "</style>\n",
       "<table border=\"1\" class=\"dataframe\">\n",
       "  <thead>\n",
       "    <tr style=\"text-align: right;\">\n",
       "      <th></th>\n",
       "      <th>bps_ticks</th>\n",
       "      <th>log_ticks</th>\n",
       "      <th>l(t) [c=10.0, g=0.1]</th>\n",
       "      <th>l(t) [c=10.0, g=0.05]</th>\n",
       "      <th>l(t) [c=10.0, g=0.25]</th>\n",
       "      <th>l(t) [c=10.0, g=0.5]</th>\n",
       "    </tr>\n",
       "  </thead>\n",
       "  <tbody>\n",
       "    <tr>\n",
       "      <th>0</th>\n",
       "      <td>-887272</td>\n",
       "      <td>-88.722764</td>\n",
       "      <td>0.00004</td>\n",
       "      <td>0.00002</td>\n",
       "      <td>0.000101</td>\n",
       "      <td>0.000202</td>\n",
       "    </tr>\n",
       "    <tr>\n",
       "      <th>1</th>\n",
       "      <td>-887262</td>\n",
       "      <td>-88.721764</td>\n",
       "      <td>0.00004</td>\n",
       "      <td>0.00002</td>\n",
       "      <td>0.000101</td>\n",
       "      <td>0.000202</td>\n",
       "    </tr>\n",
       "    <tr>\n",
       "      <th>2</th>\n",
       "      <td>-887252</td>\n",
       "      <td>-88.720764</td>\n",
       "      <td>0.00004</td>\n",
       "      <td>0.00002</td>\n",
       "      <td>0.000101</td>\n",
       "      <td>0.000202</td>\n",
       "    </tr>\n",
       "    <tr>\n",
       "      <th>3</th>\n",
       "      <td>-887242</td>\n",
       "      <td>-88.719764</td>\n",
       "      <td>0.00004</td>\n",
       "      <td>0.00002</td>\n",
       "      <td>0.000101</td>\n",
       "      <td>0.000202</td>\n",
       "    </tr>\n",
       "    <tr>\n",
       "      <th>4</th>\n",
       "      <td>-887232</td>\n",
       "      <td>-88.718764</td>\n",
       "      <td>0.00004</td>\n",
       "      <td>0.00002</td>\n",
       "      <td>0.000101</td>\n",
       "      <td>0.000202</td>\n",
       "    </tr>\n",
       "    <tr>\n",
       "      <th>...</th>\n",
       "      <td>...</td>\n",
       "      <td>...</td>\n",
       "      <td>...</td>\n",
       "      <td>...</td>\n",
       "      <td>...</td>\n",
       "      <td>...</td>\n",
       "    </tr>\n",
       "    <tr>\n",
       "      <th>177450</th>\n",
       "      <td>887228</td>\n",
       "      <td>88.718364</td>\n",
       "      <td>0.00004</td>\n",
       "      <td>0.00002</td>\n",
       "      <td>0.000101</td>\n",
       "      <td>0.000202</td>\n",
       "    </tr>\n",
       "    <tr>\n",
       "      <th>177451</th>\n",
       "      <td>887238</td>\n",
       "      <td>88.719364</td>\n",
       "      <td>0.00004</td>\n",
       "      <td>0.00002</td>\n",
       "      <td>0.000101</td>\n",
       "      <td>0.000202</td>\n",
       "    </tr>\n",
       "    <tr>\n",
       "      <th>177452</th>\n",
       "      <td>887248</td>\n",
       "      <td>88.720364</td>\n",
       "      <td>0.00004</td>\n",
       "      <td>0.00002</td>\n",
       "      <td>0.000101</td>\n",
       "      <td>0.000202</td>\n",
       "    </tr>\n",
       "    <tr>\n",
       "      <th>177453</th>\n",
       "      <td>887258</td>\n",
       "      <td>88.721364</td>\n",
       "      <td>0.00004</td>\n",
       "      <td>0.00002</td>\n",
       "      <td>0.000101</td>\n",
       "      <td>0.000202</td>\n",
       "    </tr>\n",
       "    <tr>\n",
       "      <th>177454</th>\n",
       "      <td>887268</td>\n",
       "      <td>88.722364</td>\n",
       "      <td>0.00004</td>\n",
       "      <td>0.00002</td>\n",
       "      <td>0.000101</td>\n",
       "      <td>0.000202</td>\n",
       "    </tr>\n",
       "  </tbody>\n",
       "</table>\n",
       "<p>177455 rows × 6 columns</p>\n",
       "</div>"
      ],
      "text/plain": [
       "        bps_ticks  log_ticks  l(t) [c=10.0, g=0.1]  l(t) [c=10.0, g=0.05]  \\\n",
       "0         -887272 -88.722764               0.00004                0.00002   \n",
       "1         -887262 -88.721764               0.00004                0.00002   \n",
       "2         -887252 -88.720764               0.00004                0.00002   \n",
       "3         -887242 -88.719764               0.00004                0.00002   \n",
       "4         -887232 -88.718764               0.00004                0.00002   \n",
       "...           ...        ...                   ...                    ...   \n",
       "177450     887228  88.718364               0.00004                0.00002   \n",
       "177451     887238  88.719364               0.00004                0.00002   \n",
       "177452     887248  88.720364               0.00004                0.00002   \n",
       "177453     887258  88.721364               0.00004                0.00002   \n",
       "177454     887268  88.722364               0.00004                0.00002   \n",
       "\n",
       "        l(t) [c=10.0, g=0.25]  l(t) [c=10.0, g=0.5]  \n",
       "0                    0.000101              0.000202  \n",
       "1                    0.000101              0.000202  \n",
       "2                    0.000101              0.000202  \n",
       "3                    0.000101              0.000202  \n",
       "4                    0.000101              0.000202  \n",
       "...                       ...                   ...  \n",
       "177450               0.000101              0.000202  \n",
       "177451               0.000101              0.000202  \n",
       "177452               0.000101              0.000202  \n",
       "177453               0.000101              0.000202  \n",
       "177454               0.000101              0.000202  \n",
       "\n",
       "[177455 rows x 6 columns]"
      ]
     },
     "execution_count": 29,
     "metadata": {},
     "output_type": "execute_result"
    }
   ],
   "source": [
    "df"
   ]
  },
  {
   "cell_type": "code",
   "execution_count": 30,
   "id": "2d389d03-828a-41ee-8b21-8e876a3e6346",
   "metadata": {},
   "outputs": [
    {
     "data": {
      "text/plain": [
       "<Axes: xlabel='bps_ticks'>"
      ]
     },
     "execution_count": 30,
     "metadata": {},
     "output_type": "execute_result"
    },
    {
     "data": {
      "image/png": "[encoded data removed]",
      "text/plain": [
       "<Figure size 640x480 with 1 Axes>"
      ]
     },
     "metadata": {},
     "output_type": "display_data"
    }
   ],
   "source": [
    "df.plot(x='bps_ticks', y=[f'l(t) [c={C}, g={g}]' for g in gammas], xlim=(-MAX_TICK // 100, MAX_TICK // 100))"
   ]
  },
  {
   "cell_type": "code",
   "execution_count": null,
   "id": "da42d556-83ef-490f-9b24-5bcf3a39e847",
   "metadata": {},
   "outputs": [],
   "source": []
  },
  {
   "cell_type": "code",
   "execution_count": null,
   "id": "7b27f326-6f2d-4c69-ad34-0ee4894b96c7",
   "metadata": {},
   "outputs": [],
   "source": []
  },
  {
   "cell_type": "code",
   "execution_count": null,
   "id": "dc461bde-50c3-4e12-a18e-cdac5f37ae61",
   "metadata": {},
   "outputs": [],
   "source": []
  }
 ],
 "metadata": {
  "kernelspec": {
   "display_name": "Python 3 (ipykernel)",
   "language": "python",
   "name": "python3"
  },
  "language_info": {
   "codemirror_mode": {
    "name": "ipython",
    "version": 3
   },
   "file_extension": ".py",
   "mimetype": "text/x-python",
   "name": "python",
   "nbconvert_exporter": "python",
   "pygments_lexer": "ipython3",
   "version": "3.11.11"
  }
 },
 "nbformat": 4,
 "nbformat_minor": 5
}
